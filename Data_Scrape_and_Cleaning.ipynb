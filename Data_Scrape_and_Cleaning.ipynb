{
 "cells": [
  {
   "cell_type": "markdown",
   "metadata": {},
   "source": [
    "# Scraping and Gathering\n",
    "\n",
    "This section will demonstrate how data was scraped from the two subreddits of focus: r/Relationships and r/RelationshipAbuse. Scraping was done with the Pushshift API, which can be found [here](https://github.com/pushshift/api). "
   ]
  },
  {
   "cell_type": "code",
   "execution_count": 134,
   "metadata": {},
   "outputs": [],
   "source": [
    "import requests\n",
    "import pandas as pd\n",
    "import numpy as np "
   ]
  },
  {
   "cell_type": "markdown",
   "metadata": {},
   "source": [
    "### Scraping: r/Relationships"
   ]
  },
  {
   "cell_type": "markdown",
   "metadata": {},
   "source": [
    "When attempting to manage parameters with a dictionary, there were issues with formatting of the parameters working both with the API link and python conventions. This caused me to manually generate the links used to scrape data. \n",
    "\n",
    "##### r/Relationships parameters\n",
    "| parameter name | condition | \n",
    "|:---|:---|\n",
    "| subreddit | relationships | \n",
    "| size | 500 | \n",
    "| num_comments | >100 | \n",
    "|fields | title, selftext, subreddit | \n",
    "\n",
    "The goal is to not only get posts that were made in the community, but that also resonate with the community. I chose to target posts with a certain number of comments. The number 100 was arrived at after looking at the number of comments for posts that were the top for the day and the week. \n",
    "\n",
    "I scraped during a few different time periods, the conditions are as follows: \n",
    "\n",
    "| parameter name | condition | \n",
    "|:--|:---|\n",
    "| after | 30d | \n",
    "| | | \n",
    "| before | 31d | \n",
    "| after | 60d | \n",
    "| | |\n",
    "| before | 61d | \n",
    "\n",
    "##### r/Relationships API links\n",
    "_Base link:_ \n",
    " - https: //api.pushshift.io/reddit/search/submission/?subreddit=relationships&size=500&num_comments=>100&fields=title,subreddit,selftext\n",
    "\n",
    "_Link add-ons for date intervals:_\n",
    " - In the past month: \n",
    "   - &after=30d\n",
    " - In the previous month: \n",
    "   - &after=60d&before=31d\n",
    " - Before the previous two months: \n",
    "   - &before=61d"
   ]
  },
  {
   "cell_type": "code",
   "execution_count": 92,
   "metadata": {},
   "outputs": [],
   "source": [
    "recent_mo_url_r = \"https://api.pushshift.io/reddit/search/submission/?subreddit=relationships&size=500&num_comments=>100&fields=title,subreddit,selftext&after=30d\"\n",
    "\n",
    "recent_2mo_url_r = \"https://api.pushshift.io/reddit/search/submission/?subreddit=relationships&size=500&num_comments=>100&fields=title,subreddit,selftext&after=60d&before=31d\"\n",
    "\n",
    "before_2mo_url_r = \"https://api.pushshift.io/reddit/search/submission/?subreddit=relationships&size=500&num_comments=>100&fields=title,subreddit,selftext&before=61d\""
   ]
  },
  {
   "cell_type": "code",
   "execution_count": 93,
   "metadata": {},
   "outputs": [],
   "source": [
    "response1 = requests.get(recent_mo_url_r)\n",
    "\n",
    "response2 = requests.get(recent_2mo_url_r)\n",
    "\n",
    "response3 = requests.get(before_2mo_url_r)"
   ]
  },
  {
   "cell_type": "code",
   "execution_count": 94,
   "metadata": {},
   "outputs": [
    {
     "data": {
      "text/plain": [
       "200"
      ]
     },
     "execution_count": 94,
     "metadata": {},
     "output_type": "execute_result"
    }
   ],
   "source": [
    "response1.status_code"
   ]
  },
  {
   "cell_type": "code",
   "execution_count": 95,
   "metadata": {},
   "outputs": [
    {
     "data": {
      "text/plain": [
       "200"
      ]
     },
     "execution_count": 95,
     "metadata": {},
     "output_type": "execute_result"
    }
   ],
   "source": [
    "response2.status_code"
   ]
  },
  {
   "cell_type": "code",
   "execution_count": 96,
   "metadata": {},
   "outputs": [
    {
     "data": {
      "text/plain": [
       "200"
      ]
     },
     "execution_count": 96,
     "metadata": {},
     "output_type": "execute_result"
    }
   ],
   "source": [
    "response3.status_code"
   ]
  },
  {
   "cell_type": "code",
   "execution_count": 97,
   "metadata": {},
   "outputs": [],
   "source": [
    "r_data1 = response1.json()\n",
    "\n",
    "r_data2 = response2.json()\n",
    "\n",
    "r_data3 = response3.json()"
   ]
  },
  {
   "cell_type": "code",
   "execution_count": 98,
   "metadata": {},
   "outputs": [],
   "source": [
    "r_df1 = pd.DataFrame(r_data1[\"data\"])\n",
    "\n",
    "r_df2 = pd.DataFrame(r_data2[\"data\"])\n",
    "\n",
    "r_df3 = pd.DataFrame(r_data3[\"data\"])\n",
    "\n",
    "r_df = r_df1.append([r_df2, r_df3])"
   ]
  },
  {
   "cell_type": "code",
   "execution_count": 99,
   "metadata": {},
   "outputs": [
    {
     "data": {
      "text/plain": [
       "(1108, 3)"
      ]
     },
     "execution_count": 99,
     "metadata": {},
     "output_type": "execute_result"
    }
   ],
   "source": [
    "r_df.shape"
   ]
  },
  {
   "cell_type": "code",
   "execution_count": 100,
   "metadata": {},
   "outputs": [
    {
     "data": {
      "text/html": [
       "<div>\n",
       "<style scoped>\n",
       "    .dataframe tbody tr th:only-of-type {\n",
       "        vertical-align: middle;\n",
       "    }\n",
       "\n",
       "    .dataframe tbody tr th {\n",
       "        vertical-align: top;\n",
       "    }\n",
       "\n",
       "    .dataframe thead th {\n",
       "        text-align: right;\n",
       "    }\n",
       "</style>\n",
       "<table border=\"1\" class=\"dataframe\">\n",
       "  <thead>\n",
       "    <tr style=\"text-align: right;\">\n",
       "      <th></th>\n",
       "      <th>selftext</th>\n",
       "      <th>subreddit</th>\n",
       "      <th>title</th>\n",
       "    </tr>\n",
       "  </thead>\n",
       "  <tbody>\n",
       "    <tr>\n",
       "      <td>0</td>\n",
       "      <td>So, backstory,  my friend was visiting NY from...</td>\n",
       "      <td>relationships</td>\n",
       "      <td>I (f29) have an issue that just popped up invo...</td>\n",
       "    </tr>\n",
       "    <tr>\n",
       "      <td>1</td>\n",
       "      <td>Original: https://www.reddit.com/r/relationshi...</td>\n",
       "      <td>relationships</td>\n",
       "      <td>[UPDATE] I'm [24/f] pregnant and the father/my...</td>\n",
       "    </tr>\n",
       "    <tr>\n",
       "      <td>2</td>\n",
       "      <td>A bit of background - I am of the “naturally t...</td>\n",
       "      <td>relationships</td>\n",
       "      <td>My sister (24f) has been humiliating me (19f) ...</td>\n",
       "    </tr>\n",
       "    <tr>\n",
       "      <td>3</td>\n",
       "      <td>throwaway for obvious reasons.\\n\\nI graduated ...</td>\n",
       "      <td>relationships</td>\n",
       "      <td>I[25 F] got a job offer across the country and...</td>\n",
       "    </tr>\n",
       "    <tr>\n",
       "      <td>4</td>\n",
       "      <td>Throwaway for several reasons.  \\n\\n\\nI starte...</td>\n",
       "      <td>relationships</td>\n",
       "      <td>My (24M) gf (26F) is on the autism spectrum. I...</td>\n",
       "    </tr>\n",
       "  </tbody>\n",
       "</table>\n",
       "</div>"
      ],
      "text/plain": [
       "                                            selftext      subreddit  \\\n",
       "0  So, backstory,  my friend was visiting NY from...  relationships   \n",
       "1  Original: https://www.reddit.com/r/relationshi...  relationships   \n",
       "2  A bit of background - I am of the “naturally t...  relationships   \n",
       "3  throwaway for obvious reasons.\\n\\nI graduated ...  relationships   \n",
       "4  Throwaway for several reasons.  \\n\\n\\nI starte...  relationships   \n",
       "\n",
       "                                               title  \n",
       "0  I (f29) have an issue that just popped up invo...  \n",
       "1  [UPDATE] I'm [24/f] pregnant and the father/my...  \n",
       "2  My sister (24f) has been humiliating me (19f) ...  \n",
       "3  I[25 F] got a job offer across the country and...  \n",
       "4  My (24M) gf (26F) is on the autism spectrum. I...  "
      ]
     },
     "execution_count": 100,
     "metadata": {},
     "output_type": "execute_result"
    }
   ],
   "source": [
    "r_df.head()"
   ]
  },
  {
   "cell_type": "markdown",
   "metadata": {},
   "source": [
    "### Scraping: r/AbusiveRelationships"
   ]
  },
  {
   "cell_type": "markdown",
   "metadata": {},
   "source": [
    "##### r/AbusiveRelationships parameters\n",
    "| parameter name | condition | \n",
    "|:---|:---|\n",
    "| subreddit | abusiverelationships | \n",
    "| size | 500 | \n",
    "| num_comments | >3 | \n",
    "|fields | title, selftext, subreddit | \n",
    "\n",
    "r/Relationships is significantly more popular than r/AbusiveRelationships, earning more posts per day and having significantly more engagement. After looking at top posts for the day and week in r/AbusiveRelationships, posts with more than 3 comments seemed a reasonable minimum for posts that garnered some community engagement. \n",
    "\n",
    "I scraped during a few different time periods, the conditions are as follows: \n",
    "\n",
    "| parameter name | condition | \n",
    "|:--|:---|\n",
    "| after | 30d | \n",
    "| | | \n",
    "| before | 31d | \n",
    "| after | 60d | \n",
    "| | |\n",
    "| before | 61d | \n",
    "\n",
    "##### r/AbusiveRelationships API links\n",
    "_Base link:_ \n",
    " - https: //api.pushshift.io/reddit/search/submission/?subreddit=abusiverelationships&size=500&num_comments=>3&fields=title,subreddit,selftext\n",
    "\n",
    "_Link add-ons for date intervals:_\n",
    " - In the past month: \n",
    "   - &after=30d\n",
    " - In the previous month: \n",
    "   - &after=60d&before=31d\n",
    " - Before the previous two months: \n",
    "   - &before=61d"
   ]
  },
  {
   "cell_type": "code",
   "execution_count": 103,
   "metadata": {},
   "outputs": [],
   "source": [
    "recent_mo_url_ar = \"https://api.pushshift.io/reddit/search/submission/?subreddit=abusiverelationships&size=500&num_comments=>3&fields=title,subreddit,selftext&after=30d\"\n",
    "\n",
    "recent_2mo_url_ar = \"https://api.pushshift.io/reddit/search/submission/?subreddit=abusiverelationships&size=500&num_comments=>3&fields=title,subreddit,selftext&after=60d&before=31d\"\n",
    "\n",
    "before_2mo_url_ar = \"https://api.pushshift.io/reddit/search/submission/?subreddit=abusiverelationships&size=500&num_comments=>3&fields=title,subreddit,selftext&before=61d\""
   ]
  },
  {
   "cell_type": "code",
   "execution_count": 104,
   "metadata": {},
   "outputs": [],
   "source": [
    "response1 = requests.get(recent_mo_url_ar)\n",
    "\n",
    "response2 = requests.get(recent_2mo_url_ar)\n",
    "\n",
    "response3 = requests.get(before_2mo_url_ar)"
   ]
  },
  {
   "cell_type": "code",
   "execution_count": 105,
   "metadata": {},
   "outputs": [
    {
     "data": {
      "text/plain": [
       "200"
      ]
     },
     "execution_count": 105,
     "metadata": {},
     "output_type": "execute_result"
    }
   ],
   "source": [
    "response1.status_code"
   ]
  },
  {
   "cell_type": "code",
   "execution_count": 106,
   "metadata": {},
   "outputs": [
    {
     "data": {
      "text/plain": [
       "200"
      ]
     },
     "execution_count": 106,
     "metadata": {},
     "output_type": "execute_result"
    }
   ],
   "source": [
    "response2.status_code"
   ]
  },
  {
   "cell_type": "code",
   "execution_count": 107,
   "metadata": {},
   "outputs": [
    {
     "data": {
      "text/plain": [
       "200"
      ]
     },
     "execution_count": 107,
     "metadata": {},
     "output_type": "execute_result"
    }
   ],
   "source": [
    "response3.status_code"
   ]
  },
  {
   "cell_type": "code",
   "execution_count": 108,
   "metadata": {},
   "outputs": [],
   "source": [
    "ar_data1 = response1.json()\n",
    "\n",
    "ar_data2 = response2.json()\n",
    "\n",
    "ar_data3 = response3.json()"
   ]
  },
  {
   "cell_type": "code",
   "execution_count": 109,
   "metadata": {},
   "outputs": [],
   "source": [
    "ar_df1 = pd.DataFrame(ar_data1[\"data\"])\n",
    "\n",
    "ar_df2 = pd.DataFrame(ar_data2[\"data\"])\n",
    "\n",
    "ar_df3 = pd.DataFrame(ar_data3[\"data\"])\n",
    "\n",
    "ar_df = ar_df1.append([ar_df2, ar_df3])"
   ]
  },
  {
   "cell_type": "code",
   "execution_count": 111,
   "metadata": {},
   "outputs": [
    {
     "data": {
      "text/plain": [
       "(964, 3)"
      ]
     },
     "execution_count": 111,
     "metadata": {},
     "output_type": "execute_result"
    }
   ],
   "source": [
    "ar_df.shape\n",
    "\n",
    "# 964 posts vs 1108 posts for r/Relationships... not bad! "
   ]
  },
  {
   "cell_type": "code",
   "execution_count": 112,
   "metadata": {},
   "outputs": [
    {
     "data": {
      "text/html": [
       "<div>\n",
       "<style scoped>\n",
       "    .dataframe tbody tr th:only-of-type {\n",
       "        vertical-align: middle;\n",
       "    }\n",
       "\n",
       "    .dataframe tbody tr th {\n",
       "        vertical-align: top;\n",
       "    }\n",
       "\n",
       "    .dataframe thead th {\n",
       "        text-align: right;\n",
       "    }\n",
       "</style>\n",
       "<table border=\"1\" class=\"dataframe\">\n",
       "  <thead>\n",
       "    <tr style=\"text-align: right;\">\n",
       "      <th></th>\n",
       "      <th>selftext</th>\n",
       "      <th>subreddit</th>\n",
       "      <th>title</th>\n",
       "    </tr>\n",
       "  </thead>\n",
       "  <tbody>\n",
       "    <tr>\n",
       "      <td>0</td>\n",
       "      <td></td>\n",
       "      <td>abusiverelationships</td>\n",
       "      <td>You don't owe them anything ♥️💜💙🖤💛</td>\n",
       "    </tr>\n",
       "    <tr>\n",
       "      <td>1</td>\n",
       "      <td>He isn’t sorry for what he did and blames me,I...</td>\n",
       "      <td>abusiverelationships</td>\n",
       "      <td>Threatened me before Christmas,I came back and...</td>\n",
       "    </tr>\n",
       "    <tr>\n",
       "      <td>2</td>\n",
       "      <td>Locked in the bathroom can’t come out because ...</td>\n",
       "      <td>abusiverelationships</td>\n",
       "      <td>This to shall pass</td>\n",
       "    </tr>\n",
       "    <tr>\n",
       "      <td>3</td>\n",
       "      <td></td>\n",
       "      <td>abusiverelationships</td>\n",
       "      <td>He still wants to destroy me. I hate that it s...</td>\n",
       "    </tr>\n",
       "    <tr>\n",
       "      <td>4</td>\n",
       "      <td>We are low on money, so we put out an ad to ge...</td>\n",
       "      <td>abusiverelationships</td>\n",
       "      <td>Manipulation not working anymore</td>\n",
       "    </tr>\n",
       "  </tbody>\n",
       "</table>\n",
       "</div>"
      ],
      "text/plain": [
       "                                            selftext             subreddit  \\\n",
       "0                                                     abusiverelationships   \n",
       "1  He isn’t sorry for what he did and blames me,I...  abusiverelationships   \n",
       "2  Locked in the bathroom can’t come out because ...  abusiverelationships   \n",
       "3                                                     abusiverelationships   \n",
       "4  We are low on money, so we put out an ad to ge...  abusiverelationships   \n",
       "\n",
       "                                               title  \n",
       "0                 You don't owe them anything ♥️💜💙🖤💛  \n",
       "1  Threatened me before Christmas,I came back and...  \n",
       "2                                 This to shall pass  \n",
       "3  He still wants to destroy me. I hate that it s...  \n",
       "4                   Manipulation not working anymore  "
      ]
     },
     "execution_count": 112,
     "metadata": {},
     "output_type": "execute_result"
    }
   ],
   "source": [
    "ar_df.head()"
   ]
  },
  {
   "cell_type": "markdown",
   "metadata": {},
   "source": [
    "### Combination"
   ]
  },
  {
   "cell_type": "code",
   "execution_count": 124,
   "metadata": {},
   "outputs": [],
   "source": [
    "# create one big dataset\n",
    "\n",
    "df = r_df.append(ar_df)"
   ]
  },
  {
   "cell_type": "code",
   "execution_count": 125,
   "metadata": {},
   "outputs": [
    {
     "data": {
      "text/plain": [
       "0    0.534749\n",
       "1    0.465251\n",
       "Name: abusive_relationship, dtype: float64"
      ]
     },
     "execution_count": 125,
     "metadata": {},
     "output_type": "execute_result"
    }
   ],
   "source": [
    "# give more descriptive name for subreddit column, change to binary values \n",
    "# 1 = r/AbusiveRelationships, 0 = r/Relationships\n",
    "\n",
    "df.rename(columns = {\"subreddit\": \"abusive_relationship\"}, inplace = True)\n",
    "\n",
    "df[\"abusive_relationship\"] = np.where((df[\"abusive_relationship\"] == \"abusiverelationships\"), 1, 0)\n",
    "\n",
    "df[\"abusive_relationship\"].value_counts(normalize = True)"
   ]
  },
  {
   "cell_type": "code",
   "execution_count": 133,
   "metadata": {},
   "outputs": [],
   "source": [
    "# export raw, combined df\n",
    "\n",
    "df.to_csv(\"./datasets/combined_raw.csv\")"
   ]
  }
 ],
 "metadata": {
  "kernelspec": {
   "display_name": "Python 3",
   "language": "python",
   "name": "python3"
  },
  "language_info": {
   "codemirror_mode": {
    "name": "ipython",
    "version": 3
   },
   "file_extension": ".py",
   "mimetype": "text/x-python",
   "name": "python",
   "nbconvert_exporter": "python",
   "pygments_lexer": "ipython3",
   "version": "3.7.4"
  }
 },
 "nbformat": 4,
 "nbformat_minor": 2
}
